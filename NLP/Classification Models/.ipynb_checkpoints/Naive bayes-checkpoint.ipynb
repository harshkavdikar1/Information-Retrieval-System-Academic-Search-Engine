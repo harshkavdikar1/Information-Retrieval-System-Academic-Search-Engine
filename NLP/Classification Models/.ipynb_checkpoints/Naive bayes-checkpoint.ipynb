{
 "cells": [
  {
   "cell_type": "markdown",
   "metadata": {
    "colab_type": "text",
    "id": "krTj-e75j7jF"
   },
   "source": [
    "# Multinomial Naïve Bayes"
   ]
  },
  {
   "cell_type": "code",
   "execution_count": null,
   "metadata": {
    "colab": {},
    "colab_type": "code",
    "id": "XTXnYNwcj7jJ"
   },
   "outputs": [],
   "source": [
    "import pickle\n",
    "import numpy as np\n",
    "from sklearn.feature_extraction.text import TfidfVectorizer\n",
    "from sklearn.naive_bayes import MultinomialNB\n",
    "from pprint import pprint\n",
    "from sklearn.model_selection import RandomizedSearchCV\n",
    "from sklearn.model_selection import GridSearchCV\n",
    "from sklearn.metrics import classification_report, confusion_matrix, accuracy_score\n",
    "from sklearn.model_selection import ShuffleSplit\n",
    "import matplotlib.pyplot as plt\n",
    "import seaborn as sns\n",
    "import pandas as pd"
   ]
  },
  {
   "cell_type": "code",
   "execution_count": 26,
   "metadata": {
    "colab": {
     "base_uri": "https://localhost:8080/",
     "height": 52
    },
    "colab_type": "code",
    "executionInfo": {
     "elapsed": 13438,
     "status": "ok",
     "timestamp": 1585440849312,
     "user": {
      "displayName": "Hardik Sonetta",
      "photoUrl": "https://lh3.googleusercontent.com/a-/AOh14Gh2yTtu3jQH7AZHJlR0U90OsqVVltROcUAREWum74Y=s64",
      "userId": "00373261371344363629"
     },
     "user_tz": 240
    },
    "id": "d7p2d0thkJJB",
    "outputId": "4193048a-f40e-482c-93db-ac571f3e4712"
   },
   "outputs": [
    {
     "name": "stdout",
     "output_type": "stream",
     "text": [
      "Archive:  /content/Pickles.zip\n",
      "replace Pickles/df.pickle? [y]es, [n]o, [A]ll, [N]one, [r]ename: "
     ]
    }
   ],
   "source": [
    "!unzip '/content/Pickles.zip'"
   ]
  },
  {
   "cell_type": "markdown",
   "metadata": {
    "colab_type": "text",
    "id": "nh-U5B3Kj7ja"
   },
   "source": [
    "First, we load the data:"
   ]
  },
  {
   "cell_type": "code",
   "execution_count": null,
   "metadata": {
    "colab": {},
    "colab_type": "code",
    "id": "3lFkwpIfj7jd"
   },
   "outputs": [],
   "source": [
    "# Dataframe\n",
    "path_df = \"/content/Pickles/df.pickle\"\n",
    "with open(path_df, 'rb') as data:\n",
    "    df = pickle.load(data)\n",
    "\n",
    "# features_train\n",
    "path_features_train = \"/content/Pickles/features_train.pickle\"\n",
    "with open(path_features_train, 'rb') as data:\n",
    "    features_train = pickle.load(data)\n",
    "\n",
    "# labels_train\n",
    "path_labels_train = \"/content/Pickles/labels_train.pickle\"\n",
    "with open(path_labels_train, 'rb') as data:\n",
    "    labels_train = pickle.load(data)\n",
    "\n",
    "# features_test\n",
    "path_features_test = \"/content/Pickles/features_test.pickle\"\n",
    "with open(path_features_test, 'rb') as data:\n",
    "    features_test = pickle.load(data)\n",
    "\n",
    "# labels_test\n",
    "path_labels_test = \"/content/Pickles/labels_test.pickle\"\n",
    "with open(path_labels_test, 'rb') as data:\n",
    "    labels_test = pickle.load(data)"
   ]
  },
  {
   "cell_type": "markdown",
   "metadata": {
    "colab_type": "text",
    "id": "chdWL6eJj7js"
   },
   "source": [
    "Let's check the dimension of our feature vectors:"
   ]
  },
  {
   "cell_type": "code",
   "execution_count": 28,
   "metadata": {
    "colab": {
     "base_uri": "https://localhost:8080/",
     "height": 52
    },
    "colab_type": "code",
    "executionInfo": {
     "elapsed": 852,
     "status": "ok",
     "timestamp": 1585440854111,
     "user": {
      "displayName": "Hardik Sonetta",
      "photoUrl": "https://lh3.googleusercontent.com/a-/AOh14Gh2yTtu3jQH7AZHJlR0U90OsqVVltROcUAREWum74Y=s64",
      "userId": "00373261371344363629"
     },
     "user_tz": 240
    },
    "id": "mmPgnEgAj7jv",
    "outputId": "ff820835-8b68-491d-823b-6a37eb681bf7"
   },
   "outputs": [
    {
     "name": "stdout",
     "output_type": "stream",
     "text": [
      "(7058, 300)\n",
      "(1765, 300)\n"
     ]
    }
   ],
   "source": [
    "print(features_train.shape)\n",
    "print(features_test.shape)"
   ]
  },
  {
   "cell_type": "markdown",
   "metadata": {
    "colab_type": "text",
    "id": "KxN0i42qj7j8"
   },
   "source": [
    "## Cross-Validation for Hyperparameter tuning"
   ]
  },
  {
   "cell_type": "markdown",
   "metadata": {
    "colab_type": "text",
    "id": "99k89Kf3j7j_"
   },
   "source": [
    "In the case of the Multinomial Naïve Bayes, we will not tune any hyperparameter."
   ]
  },
  {
   "cell_type": "code",
   "execution_count": 29,
   "metadata": {
    "colab": {
     "base_uri": "https://localhost:8080/",
     "height": 35
    },
    "colab_type": "code",
    "executionInfo": {
     "elapsed": 897,
     "status": "ok",
     "timestamp": 1585440856375,
     "user": {
      "displayName": "Hardik Sonetta",
      "photoUrl": "https://lh3.googleusercontent.com/a-/AOh14Gh2yTtu3jQH7AZHJlR0U90OsqVVltROcUAREWum74Y=s64",
      "userId": "00373261371344363629"
     },
     "user_tz": 240
    },
    "id": "tJlKEMsRj7kB",
    "outputId": "1231f5cf-1020-4921-e62c-ccc717ced85e"
   },
   "outputs": [
    {
     "data": {
      "text/plain": [
       "MultinomialNB(alpha=1.0, class_prior=None, fit_prior=True)"
      ]
     },
     "execution_count": 29,
     "metadata": {
      "tags": []
     },
     "output_type": "execute_result"
    }
   ],
   "source": [
    "mnbc = MultinomialNB()\n",
    "mnbc"
   ]
  },
  {
   "cell_type": "markdown",
   "metadata": {
    "colab_type": "text",
    "id": "-icdMXCCj7kN"
   },
   "source": [
    "Let's fit it and see how it performs:"
   ]
  },
  {
   "cell_type": "markdown",
   "metadata": {
    "colab_type": "text",
    "id": "1xXz8N24j7kO"
   },
   "source": [
    "## Model fit and performance"
   ]
  },
  {
   "cell_type": "markdown",
   "metadata": {
    "colab_type": "text",
    "id": "SqN0CCqyj7kP"
   },
   "source": [
    "Now, we can fit the model to our training data:"
   ]
  },
  {
   "cell_type": "code",
   "execution_count": 30,
   "metadata": {
    "colab": {
     "base_uri": "https://localhost:8080/",
     "height": 35
    },
    "colab_type": "code",
    "executionInfo": {
     "elapsed": 829,
     "status": "ok",
     "timestamp": 1585440858457,
     "user": {
      "displayName": "Hardik Sonetta",
      "photoUrl": "https://lh3.googleusercontent.com/a-/AOh14Gh2yTtu3jQH7AZHJlR0U90OsqVVltROcUAREWum74Y=s64",
      "userId": "00373261371344363629"
     },
     "user_tz": 240
    },
    "id": "FM92lrFij7kR",
    "outputId": "1b38028f-2928-4277-af1d-a70141a6e3df"
   },
   "outputs": [
    {
     "data": {
      "text/plain": [
       "MultinomialNB(alpha=1.0, class_prior=None, fit_prior=True)"
      ]
     },
     "execution_count": 30,
     "metadata": {
      "tags": []
     },
     "output_type": "execute_result"
    }
   ],
   "source": [
    "mnbc.fit(features_train, labels_train)"
   ]
  },
  {
   "cell_type": "markdown",
   "metadata": {
    "colab_type": "text",
    "id": "xI3HqvPqj7kZ"
   },
   "source": [
    "And get the predictions:"
   ]
  },
  {
   "cell_type": "code",
   "execution_count": null,
   "metadata": {
    "colab": {},
    "colab_type": "code",
    "id": "FbvHpiQpj7ka"
   },
   "outputs": [],
   "source": [
    "mnbc_pred = mnbc.predict(features_test)"
   ]
  },
  {
   "cell_type": "markdown",
   "metadata": {
    "colab_type": "text",
    "id": "YV0Vaeowj7kf"
   },
   "source": [
    "The conditional class probabilities can be obtained by typing:\n",
    "\n",
    "`mnbc_pred = mnbc.predict_proba(features_test)`"
   ]
  },
  {
   "cell_type": "markdown",
   "metadata": {
    "colab_type": "text",
    "id": "nGN3hAahj7kg"
   },
   "source": [
    "For performance analysis, we will use the confusion matrix, the classification report and the accuracy on both training and test data:"
   ]
  },
  {
   "cell_type": "markdown",
   "metadata": {
    "colab_type": "text",
    "id": "cPsQrj-Wj7kh"
   },
   "source": [
    "#### Training accuracy"
   ]
  },
  {
   "cell_type": "code",
   "execution_count": 32,
   "metadata": {
    "colab": {
     "base_uri": "https://localhost:8080/",
     "height": 52
    },
    "colab_type": "code",
    "executionInfo": {
     "elapsed": 820,
     "status": "ok",
     "timestamp": 1585440868037,
     "user": {
      "displayName": "Hardik Sonetta",
      "photoUrl": "https://lh3.googleusercontent.com/a-/AOh14Gh2yTtu3jQH7AZHJlR0U90OsqVVltROcUAREWum74Y=s64",
      "userId": "00373261371344363629"
     },
     "user_tz": 240
    },
    "id": "VZOmnBCKj7ki",
    "outputId": "97f812fa-189f-47d4-b202-8b90f415580b"
   },
   "outputs": [
    {
     "name": "stdout",
     "output_type": "stream",
     "text": [
      "The training accuracy is: \n",
      "0.8761688863700765\n"
     ]
    }
   ],
   "source": [
    "# Training accuracy\n",
    "print(\"The training accuracy is: \")\n",
    "print(accuracy_score(labels_train, mnbc.predict(features_train)))"
   ]
  },
  {
   "cell_type": "markdown",
   "metadata": {
    "colab_type": "text",
    "id": "djaih9_8j7kl"
   },
   "source": [
    "#### Test accuracy"
   ]
  },
  {
   "cell_type": "code",
   "execution_count": 33,
   "metadata": {
    "colab": {
     "base_uri": "https://localhost:8080/",
     "height": 52
    },
    "colab_type": "code",
    "executionInfo": {
     "elapsed": 829,
     "status": "ok",
     "timestamp": 1585440871338,
     "user": {
      "displayName": "Hardik Sonetta",
      "photoUrl": "https://lh3.googleusercontent.com/a-/AOh14Gh2yTtu3jQH7AZHJlR0U90OsqVVltROcUAREWum74Y=s64",
      "userId": "00373261371344363629"
     },
     "user_tz": 240
    },
    "id": "p1jQXvgIj7km",
    "outputId": "2b3826d5-3c4a-4b18-eb97-1c26479f30ca"
   },
   "outputs": [
    {
     "name": "stdout",
     "output_type": "stream",
     "text": [
      "The test accuracy is: \n",
      "0.8645892351274788\n"
     ]
    }
   ],
   "source": [
    "# Test accuracy\n",
    "print(\"The test accuracy is: \")\n",
    "print(accuracy_score(labels_test, mnbc_pred))"
   ]
  },
  {
   "cell_type": "markdown",
   "metadata": {
    "colab_type": "text",
    "id": "O36BeSnKj7kp"
   },
   "source": [
    "#### Classification report"
   ]
  },
  {
   "cell_type": "code",
   "execution_count": 34,
   "metadata": {
    "colab": {
     "base_uri": "https://localhost:8080/",
     "height": 195
    },
    "colab_type": "code",
    "executionInfo": {
     "elapsed": 861,
     "status": "ok",
     "timestamp": 1585440873417,
     "user": {
      "displayName": "Hardik Sonetta",
      "photoUrl": "https://lh3.googleusercontent.com/a-/AOh14Gh2yTtu3jQH7AZHJlR0U90OsqVVltROcUAREWum74Y=s64",
      "userId": "00373261371344363629"
     },
     "user_tz": 240
    },
    "id": "At-hzVDej7kq",
    "outputId": "4eb80516-7869-42e0-e5e5-220e3251988c"
   },
   "outputs": [
    {
     "name": "stdout",
     "output_type": "stream",
     "text": [
      "Classification report\n",
      "              precision    recall  f1-score   support\n",
      "\n",
      "           0       0.86      0.87      0.87       897\n",
      "           1       0.87      0.86      0.86       868\n",
      "\n",
      "    accuracy                           0.86      1765\n",
      "   macro avg       0.86      0.86      0.86      1765\n",
      "weighted avg       0.86      0.86      0.86      1765\n",
      "\n"
     ]
    }
   ],
   "source": [
    "# Classification report\n",
    "print(\"Classification report\")\n",
    "print(classification_report(labels_test,mnbc_pred))"
   ]
  },
  {
   "cell_type": "markdown",
   "metadata": {
    "colab_type": "text",
    "id": "HDjR0z1Yj7ks"
   },
   "source": [
    "#### Confusion matrix"
   ]
  },
  {
   "cell_type": "code",
   "execution_count": 35,
   "metadata": {
    "colab": {
     "base_uri": "https://localhost:8080/",
     "height": 404
    },
    "colab_type": "code",
    "executionInfo": {
     "elapsed": 891,
     "status": "ok",
     "timestamp": 1585440878934,
     "user": {
      "displayName": "Hardik Sonetta",
      "photoUrl": "https://lh3.googleusercontent.com/a-/AOh14Gh2yTtu3jQH7AZHJlR0U90OsqVVltROcUAREWum74Y=s64",
      "userId": "00373261371344363629"
     },
     "user_tz": 240
    },
    "id": "dXzwia8rj7kt",
    "outputId": "a3627210-f027-47fd-a8dc-c5adda9c3656"
   },
   "outputs": [
    {
     "data": {
      "image/png": "[encoded data removed]",
      "text/plain": [
       "<Figure size 921.6x432 with 2 Axes>"
      ]
     },
     "metadata": {
      "tags": []
     },
     "output_type": "display_data"
    }
   ],
   "source": [
    "aux_df = df[['Category', 'Category_Code']].drop_duplicates().sort_values('Category_Code')\n",
    "conf_matrix = confusion_matrix(labels_test, mnbc_pred)\n",
    "plt.figure(figsize=(12.8,6))\n",
    "sns.heatmap(conf_matrix, \n",
    "            annot=True,\n",
    "            xticklabels=aux_df['Category'].values, \n",
    "            yticklabels=aux_df['Category'].values,\n",
    "            cmap=\"Blues\",\n",
    "           fmt='g')\n",
    "plt.ylabel('Predicted')\n",
    "plt.xlabel('Actual')\n",
    "plt.title('Confusion matrix')\n",
    "plt.show()"
   ]
  },
  {
   "cell_type": "code",
   "execution_count": null,
   "metadata": {
    "colab": {},
    "colab_type": "code",
    "id": "CeBivU5nk4el"
   },
   "outputs": [],
   "source": []
  }
 ],
 "metadata": {
  "accelerator": "GPU",
  "colab": {
   "name": "09. Naive bayes.ipynb",
   "provenance": []
  },
  "kernelspec": {
   "display_name": "Python 3",
   "language": "python",
   "name": "python3"
  },
  "language_info": {
   "codemirror_mode": {
    "name": "ipython",
    "version": 3
   },
   "file_extension": ".py",
   "mimetype": "text/x-python",
   "name": "python",
   "nbconvert_exporter": "python",
   "pygments_lexer": "ipython3",
   "version": "3.7.3"
  }
 },
 "nbformat": 4,
 "nbformat_minor": 4
}
